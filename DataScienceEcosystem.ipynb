{
 "cells": [
  {
   "cell_type": "markdown",
   "id": "13c49b71-9760-49f5-a3dc-a39d391c0f30",
   "metadata": {},
   "source": [
    "# Data Science Tool and Ecosystem"
   ]
  },
  {
   "cell_type": "markdown",
   "id": "48065ed8-6aa6-4c3c-8ee0-7989892702b0",
   "metadata": {},
   "source": [
    "In this notebook, Data Science Tools and Ecosystem are summarized."
   ]
  },
  {
   "cell_type": "markdown",
   "id": "e383325e-d4ee-4026-a2e6-fd5c928e93cb",
   "metadata": {},
   "source": [
    "**Objectives:** \n",
    "- Popular languages that Data Scientist use\n",
    "- Common used libraries\n",
    "- Data Science Tools\n",
    "- Arithmetic expressions in python"
   ]
  },
  {
   "cell_type": "markdown",
   "id": "96ac266d-bd45-4a07-80a9-f9122785b837",
   "metadata": {},
   "source": [
    "Some of the popular languages that Data Scientists use are:"
   ]
  },
  {
   "cell_type": "markdown",
   "id": "e25ba034-3783-4bcd-a728-678726828f21",
   "metadata": {},
   "source": [
    "1. python\n",
    "2. R\n",
    "3. C"
   ]
  },
  {
   "cell_type": "markdown",
   "id": "f95ab2f8-ab1b-4c21-9d8a-f27def4c3f37",
   "metadata": {},
   "source": [
    "Some of the commonly used libraries used by Data Scientists include:"
   ]
  },
  {
   "cell_type": "markdown",
   "id": "9eeb9c06-6223-4344-8277-1823af0f58de",
   "metadata": {},
   "source": [
    "1. Numpy\n",
    "2. matplotlib\n",
    "3. sklearn"
   ]
  },
  {
   "cell_type": "markdown",
   "id": "0937bf9f-ba10-4198-a98b-edc76c1b66f9",
   "metadata": {},
   "source": [
    "| Data Science Tools | \n",
    "|----------|\n",
    "|   Git hub | \n",
    "|   jupyter lab  |\n",
    "|   R studio  | "
   ]
  },
  {
   "cell_type": "markdown",
   "id": "418ff719-68ca-42cc-a197-2d9ad087f3d8",
   "metadata": {},
   "source": [
    "### Below are a few examples of evaluating arithmetic expressions in Python"
   ]
  },
  {
   "cell_type": "code",
   "execution_count": 3,
   "id": "48dad267-642a-48f9-bc78-ef0c135b0195",
   "metadata": {},
   "outputs": [
    {
     "data": {
      "text/plain": [
       "17"
      ]
     },
     "execution_count": 3,
     "metadata": {},
     "output_type": "execute_result"
    }
   ],
   "source": [
    "#This a simple arithmetic expression to mutiply then add integers\n",
    "(3*4)+5"
   ]
  },
  {
   "cell_type": "code",
   "execution_count": 4,
   "id": "a1a01436-e6f6-4a74-8734-992bbcf64efe",
   "metadata": {},
   "outputs": [
    {
     "data": {
      "text/plain": [
       "3.3333333333333335"
      ]
     },
     "execution_count": 4,
     "metadata": {},
     "output_type": "execute_result"
    }
   ],
   "source": [
    "# This will convert 200 minutes to hours by diving by 60\n",
    "200 / 60"
   ]
  },
  {
   "cell_type": "markdown",
   "id": "05334924-c4f8-4e80-ad84-b4921329433a",
   "metadata": {},
   "source": [
    "## Author\n",
    "Iran Adair Martinez Diaz "
   ]
  },
  {
   "cell_type": "code",
   "execution_count": null,
   "id": "06ea95f3-466c-4063-b24b-f2fc97430268",
   "metadata": {},
   "outputs": [],
   "source": []
  }
 ],
 "metadata": {
  "kernelspec": {
   "display_name": "Python 3 (ipykernel)",
   "language": "python",
   "name": "python3"
  },
  "language_info": {
   "codemirror_mode": {
    "name": "ipython",
    "version": 3
   },
   "file_extension": ".py",
   "mimetype": "text/x-python",
   "name": "python",
   "nbconvert_exporter": "python",
   "pygments_lexer": "ipython3",
   "version": "3.10.9"
  }
 },
 "nbformat": 4,
 "nbformat_minor": 5
}
